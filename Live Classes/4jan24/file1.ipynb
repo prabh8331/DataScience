{
 "cells": [
  {
   "cell_type": "markdown",
   "id": "74462c52",
   "metadata": {},
   "source": [
    "### why should we use python? - industory \n",
    "1. Industry demand \n",
    "2. High level and easy to code"
   ]
  },
  {
   "cell_type": "code",
   "execution_count": 3,
   "id": "ebd7832e",
   "metadata": {},
   "outputs": [
    {
     "name": "stdout",
     "output_type": "stream",
     "text": [
      "hello\n"
     ]
    }
   ],
   "source": [
    "print(\"hello\")"
   ]
  },
  {
   "cell_type": "code",
   "execution_count": 1,
   "id": "0f3187ed",
   "metadata": {},
   "outputs": [],
   "source": [
    "a=10"
   ]
  },
  {
   "cell_type": "code",
   "execution_count": 2,
   "id": "455f3974",
   "metadata": {},
   "outputs": [
    {
     "name": "stdout",
     "output_type": "stream",
     "text": [
      "10\n"
     ]
    }
   ],
   "source": [
    "print(a)"
   ]
  },
  {
   "cell_type": "code",
   "execution_count": 5,
   "id": "0894daa8",
   "metadata": {},
   "outputs": [],
   "source": [
    "# a is object of int class, every thing in pyton every thing in \n",
    "# python is dynamincay typed \n",
    "\n",
    "import keyword"
   ]
  },
  {
   "cell_type": "code",
   "execution_count": 7,
   "id": "0fbcdfb5",
   "metadata": {},
   "outputs": [
    {
     "name": "stdout",
     "output_type": "stream",
     "text": [
      "['False', 'None', 'True', 'and', 'as', 'assert', 'async', 'await', 'break', 'class', 'continue', 'def', 'del', 'elif', 'else', 'except', 'finally', 'for', 'from', 'global', 'if', 'import', 'in', 'is', 'lambda', 'nonlocal', 'not', 'or', 'pass', 'raise', 'return', 'try', 'while', 'with', 'yield']\n"
     ]
    }
   ],
   "source": [
    "print(keyword.kwlist)"
   ]
  },
  {
   "cell_type": "code",
   "execution_count": null,
   "id": "9f6e211e",
   "metadata": {},
   "outputs": [],
   "source": [
    "_var1 =100  # variable names cannot start with interdert & spaecia character expect _"
   ]
  },
  {
   "cell_type": "markdown",
   "id": "fe8d0ec9",
   "metadata": {},
   "source": [
    "### varous data types in pyton \n",
    "1. numeric --> [interger, floating\n",
    "2. string  -->\n",
    "3. boolen\n",
    "4. date\n",
    "5. complex - not ofeten or rarely used"
   ]
  },
  {
   "cell_type": "code",
   "execution_count": 9,
   "id": "370c1c02",
   "metadata": {},
   "outputs": [
    {
     "data": {
      "text/plain": [
       "int"
      ]
     },
     "execution_count": 9,
     "metadata": {},
     "output_type": "execute_result"
    }
   ],
   "source": [
    "emp_id= 100 # hyphen is not allowed for separating the words in a variable name\n",
    "type(emp_id)"
   ]
  },
  {
   "cell_type": "code",
   "execution_count": 8,
   "id": "2f566ae4",
   "metadata": {},
   "outputs": [
    {
     "data": {
      "text/plain": [
       "float"
      ]
     },
     "execution_count": 8,
     "metadata": {},
     "output_type": "execute_result"
    }
   ],
   "source": [
    "salary = 100.75\n",
    "type(salary)"
   ]
  },
  {
   "cell_type": "code",
   "execution_count": 12,
   "id": "2619ea03",
   "metadata": {},
   "outputs": [
    {
     "data": {
      "text/plain": [
       "complex"
      ]
     },
     "execution_count": 12,
     "metadata": {},
     "output_type": "execute_result"
    }
   ],
   "source": [
    "# Complex\n",
    "comp = 100j\n",
    "type(comp)"
   ]
  },
  {
   "cell_type": "code",
   "execution_count": 12,
   "id": "02159458",
   "metadata": {},
   "outputs": [
    {
     "data": {
      "text/plain": [
       "complex"
      ]
     },
     "execution_count": 12,
     "metadata": {},
     "output_type": "execute_result"
    }
   ],
   "source": [
    "# Complex\n",
    "comp = 100j\n",
    "type(comp)"
   ]
  }
 ],
 "metadata": {
  "kernelspec": {
   "display_name": "Python 3 (ipykernel)",
   "language": "python",
   "name": "python3"
  },
  "language_info": {
   "codemirror_mode": {
    "name": "ipython",
    "version": 3
   },
   "file_extension": ".py",
   "mimetype": "text/x-python",
   "name": "python",
   "nbconvert_exporter": "python",
   "pygments_lexer": "ipython3",
   "version": "3.11.5"
  }
 },
 "nbformat": 4,
 "nbformat_minor": 5
}
