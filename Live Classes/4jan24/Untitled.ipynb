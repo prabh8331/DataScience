{
 "cells": [
  {
   "cell_type": "markdown",
   "id": "2b0504db",
   "metadata": {},
   "source": [
    "### why should we use python? - industory \n",
    "1. Industry demand \n",
    "2. High level and easy to code"
   ]
  },
  {
   "cell_type": "code",
   "execution_count": 1,
   "id": "6b42d394",
   "metadata": {},
   "outputs": [
    {
     "name": "stdout",
     "output_type": "stream",
     "text": [
      "hello\n"
     ]
    }
   ],
   "source": [
    "print(\"hello\")"
   ]
  }
 ],
 "metadata": {
  "kernelspec": {
   "display_name": "Python 3 (ipykernel)",
   "language": "python",
   "name": "python3"
  },
  "language_info": {
   "codemirror_mode": {
    "name": "ipython",
    "version": 3
   },
   "file_extension": ".py",
   "mimetype": "text/x-python",
   "name": "python",
   "nbconvert_exporter": "python",
   "pygments_lexer": "ipython3",
   "version": "3.11.5"
  }
 },
 "nbformat": 4,
 "nbformat_minor": 5
}
